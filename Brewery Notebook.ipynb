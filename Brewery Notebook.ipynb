{
    "cells": [
        {
            "cell_type": "markdown",
            "metadata": {
                "collapsed": true
            },
            "source": "Introduction\n\n    The point of this project is to answer the stakeholders question of where in Colorado would be the best place for a new Brewery to be built \n    and operated. The stakeholders want to open a new brewery in Colorado but they are not sure of where the best place for the new location to be."
        },
        {
            "cell_type": "markdown",
            "metadata": {},
            "source": "Data\n\n    For this project I will be using Foursquare Location Data along side another data set retreived from Kaggle. The data set retreived from Kaggle\n    was compiled from beermonthclub.com and was last updated in 2019. The data sets icludes the names and address for the breweries as well as the\n    locations website and more. I plan to use this data combnined with Foursqaiure to map out the brewery locations in Colorado and determine where\n    there is a gap in the market that can be filled."
        },
        {
            "cell_type": "code",
            "execution_count": null,
            "metadata": {},
            "outputs": [],
            "source": ""
        }
    ],
    "metadata": {
        "kernelspec": {
            "display_name": "Python 3.7",
            "language": "python",
            "name": "python3"
        },
        "language_info": {
            "codemirror_mode": {
                "name": "ipython",
                "version": 3
            },
            "file_extension": ".py",
            "mimetype": "text/x-python",
            "name": "python",
            "nbconvert_exporter": "python",
            "pygments_lexer": "ipython3",
            "version": "3.7.9"
        }
    },
    "nbformat": 4,
    "nbformat_minor": 1
}